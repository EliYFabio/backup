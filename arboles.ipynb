{
 "cells": [
  {
   "cell_type": "code",
   "execution_count": 3,
   "metadata": {
    "collapsed": true,
    "ExecuteTime": {
     "start_time": "2023-05-02T17:18:03.626985Z",
     "end_time": "2023-05-02T17:18:03.845760Z"
    }
   },
   "outputs": [],
   "source": [
    "import numpy as np"
   ]
  },
  {
   "cell_type": "code",
   "execution_count": 4,
   "outputs": [],
   "source": [
    "    # Inputs\n",
    "n = 10     #number of steps\n",
    "S = 50  #initial underlying asset price\n",
    "r = 0.05    #risk-free interest rate\n",
    "K = 52   #strike price\n",
    "v = 0.26 #volatility\n",
    "T = 1\n",
    "c = 2\n",
    "\n",
    "dt = T/n\n",
    "u =  np.exp(v*np.sqrt(dt))\n",
    "d =  1./u\n",
    "p = (np.exp(r*dt)-d) / (u-d)"
   ],
   "metadata": {
    "collapsed": false,
    "ExecuteTime": {
     "start_time": "2023-05-02T17:18:04.484537Z",
     "end_time": "2023-05-02T17:18:04.506492Z"
    }
   }
  },
  {
   "cell_type": "code",
   "execution_count": 5,
   "outputs": [],
   "source": [
    "#Binomial price tree\n",
    "stockvalue = np.zeros((n+1,n+1))\n",
    "decision = np.zeros((n+1,n+1))"
   ],
   "metadata": {
    "collapsed": false,
    "ExecuteTime": {
     "start_time": "2023-05-02T17:18:05.396795Z",
     "end_time": "2023-05-02T17:18:05.413329Z"
    }
   }
  },
  {
   "cell_type": "code",
   "execution_count": 6,
   "outputs": [],
   "source": [
    "stockvalue[0,0] = S\n",
    "for i in range(1,n+1):\n",
    "    stockvalue[i,0] = stockvalue[i-1,0]*u\n",
    "    for j in range(1,i+1):\n",
    "        stockvalue[i,j] = stockvalue[i-1,j-1]*d"
   ],
   "metadata": {
    "collapsed": false,
    "ExecuteTime": {
     "start_time": "2023-05-02T17:18:06.333885Z",
     "end_time": "2023-05-02T17:18:06.350536Z"
    }
   }
  },
  {
   "cell_type": "code",
   "execution_count": 7,
   "outputs": [],
   "source": [
    "#option value at final node\n",
    "optionvalue=np.zeros((n+1,n+1))\n",
    "for j in range(n+1):\n",
    "    optionvalue[n,j]=max(K-stockvalue[n,j],0)\n"
   ],
   "metadata": {
    "collapsed": false,
    "ExecuteTime": {
     "start_time": "2023-05-02T17:18:07.377623Z",
     "end_time": "2023-05-02T17:18:07.453313Z"
    }
   }
  },
  {
   "cell_type": "code",
   "execution_count": 8,
   "outputs": [],
   "source": [
    "for i in range(n-1,-1,-1):\n",
    "    for j in range(i+1):\n",
    "        optionvalue[i,j]=np.exp(-r*dt)*(p*optionvalue[i+1,j]+(1-p)*optionvalue[i+1,j+1])"
   ],
   "metadata": {
    "collapsed": false,
    "ExecuteTime": {
     "start_time": "2023-05-02T17:18:09.462623Z",
     "end_time": "2023-05-02T17:18:09.490629Z"
    }
   }
  },
  {
   "cell_type": "code",
   "execution_count": 9,
   "outputs": [
    {
     "name": "stdout",
     "output_type": "stream",
     "text": [
      "Put:  4.9307351885951585\n"
     ]
    }
   ],
   "source": [
    "print(\"Put: \",optionvalue[0,0])"
   ],
   "metadata": {
    "collapsed": false,
    "ExecuteTime": {
     "start_time": "2023-05-02T17:18:11.239347Z",
     "end_time": "2023-05-02T17:18:11.275614Z"
    }
   }
  },
  {
   "cell_type": "code",
   "execution_count": 13,
   "outputs": [
    {
     "data": {
      "text/plain": "array([[ 4.93073519,  0.        ,  0.        ,  0.        ,  0.        ,\n         0.        ,  0.        ,  0.        ,  0.        ,  0.        ,\n         0.        ],\n       [ 3.20143735,  6.78036315,  0.        ,  0.        ,  0.        ,\n         0.        ,  0.        ,  0.        ,  0.        ,  0.        ,\n         0.        ],\n       [ 1.82698816,  4.6641866 ,  9.05142527,  0.        ,  0.        ,\n         0.        ,  0.        ,  0.        ,  0.        ,  0.        ,\n         0.        ],\n       [ 0.8607757 ,  2.85094188,  6.59842852, 11.69614992,  0.        ,\n         0.        ,  0.        ,  0.        ,  0.        ,  0.        ,\n         0.        ],\n       [ 0.29674729,  1.45640654,  4.33100445,  9.02499101, 14.59490441,\n         0.        ,  0.        ,  0.        ,  0.        ,  0.        ,\n         0.        ],\n       [ 0.05515355,  0.55114155,  2.41315903,  6.37066746, 11.87890996,\n        17.56995421,  0.        ,  0.        ,  0.        ,  0.        ,\n         0.        ],\n       [ 0.        ,  0.11310057,  1.01252555,  3.89508873,  9.01146901,\n        14.98374966, 20.44039562,  0.        ,  0.        ,  0.        ,\n         0.        ],\n       [ 0.        ,  0.        ,  0.23192956,  1.83502993,  6.07825518,\n        12.15541301, 18.07965964, 23.10561265,  0.        ,  0.        ,\n         0.        ],\n       [ 0.        ,  0.        ,  0.        ,  0.47560608,  3.26817135,\n         9.06409223, 15.49601   , 20.95265597, 25.58191061,  0.        ,\n         0.        ],\n       [ 0.        ,  0.        ,  0.        ,  0.        ,  0.97530107,\n         5.6871479 , 12.67024107, 18.5944877 , 23.62044071, 27.88430837,\n         0.        ],\n       [ 0.        ,  0.        ,  0.        ,  0.        ,  0.        ,\n         2.        ,  9.58150088, 16.01341865, 21.47006461, 26.09931925,\n        30.02663993]])"
     },
     "execution_count": 13,
     "metadata": {},
     "output_type": "execute_result"
    }
   ],
   "source": [
    "optionvalue"
   ],
   "metadata": {
    "collapsed": false,
    "ExecuteTime": {
     "start_time": "2023-05-02T17:20:09.761829Z",
     "end_time": "2023-05-02T17:20:09.773439Z"
    }
   }
  },
  {
   "cell_type": "code",
   "execution_count": 28,
   "outputs": [],
   "source": [
    "import numpy as np\n",
    "\n",
    "def arbol(n, S, r, K, v, T, c_type):\n",
    "    dt = T / n\n",
    "    u = np.exp(v * np.sqrt(dt))\n",
    "    d = 1.0 / u\n",
    "    p = (np.exp(r * dt) - d) / (u - d)\n",
    "    stock_value = S * np.cumprod(np.vstack((np.ones(n), u * np.ones((n, n))))[:-1], axis=0)\n",
    "    option_value = np.maximum(K - stock_value if c_type == \"put\" else stock_value - K, 0)\n",
    "    for i in range(n - 1, -1, -1):\n",
    "        option_value[:i + 1] = np.exp(-r * dt) * (p * option_value[1:i + 2] + (1 - p) * option_value[:i + 1])\n",
    "    return option_value[0, 0]\n",
    "\n",
    "\n",
    "\n"
   ],
   "metadata": {
    "collapsed": false,
    "ExecuteTime": {
     "start_time": "2023-04-27T19:48:15.722669Z",
     "end_time": "2023-04-27T19:48:15.742387Z"
    }
   }
  },
  {
   "cell_type": "code",
   "execution_count": 27,
   "outputs": [
    {
     "ename": "KeyboardInterrupt",
     "evalue": "",
     "output_type": "error",
     "traceback": [
      "\u001B[1;31m---------------------------------------------------------------------------\u001B[0m",
      "\u001B[1;31mKeyboardInterrupt\u001B[0m                         Traceback (most recent call last)",
      "Cell \u001B[1;32mIn[27], line 6\u001B[0m\n\u001B[0;32m      4\u001B[0m \u001B[38;5;28;01mfor\u001B[39;00m i \u001B[38;5;129;01min\u001B[39;00m steps:\n\u001B[0;32m      5\u001B[0m     puts\u001B[38;5;241m+\u001B[39m\u001B[38;5;241m=\u001B[39m[arbol(i,S,r,K,v,T,c,\u001B[38;5;124m\"\u001B[39m\u001B[38;5;124mput\u001B[39m\u001B[38;5;124m\"\u001B[39m)]\n\u001B[1;32m----> 6\u001B[0m     calls\u001B[38;5;241m+\u001B[39m\u001B[38;5;241m=\u001B[39m[\u001B[43marbol\u001B[49m\u001B[43m(\u001B[49m\u001B[43mi\u001B[49m\u001B[43m,\u001B[49m\u001B[43mS\u001B[49m\u001B[43m,\u001B[49m\u001B[43mr\u001B[49m\u001B[43m,\u001B[49m\u001B[43mK\u001B[49m\u001B[43m,\u001B[49m\u001B[43mv\u001B[49m\u001B[43m,\u001B[49m\u001B[43mT\u001B[49m\u001B[43m,\u001B[49m\u001B[43mc\u001B[49m\u001B[43m,\u001B[49m\u001B[38;5;124;43m\"\u001B[39;49m\u001B[38;5;124;43mcall\u001B[39;49m\u001B[38;5;124;43m\"\u001B[39;49m\u001B[43m)\u001B[49m]\n",
      "Cell \u001B[1;32mIn[23], line 23\u001B[0m, in \u001B[0;36marbol\u001B[1;34m(n, S, r, K, v, T, c, type)\u001B[0m\n\u001B[0;32m     21\u001B[0m \u001B[38;5;28;01mfor\u001B[39;00m i \u001B[38;5;129;01min\u001B[39;00m \u001B[38;5;28mrange\u001B[39m(n\u001B[38;5;241m-\u001B[39m\u001B[38;5;241m1\u001B[39m,\u001B[38;5;241m-\u001B[39m\u001B[38;5;241m1\u001B[39m,\u001B[38;5;241m-\u001B[39m\u001B[38;5;241m1\u001B[39m):\n\u001B[0;32m     22\u001B[0m     \u001B[38;5;28;01mfor\u001B[39;00m j \u001B[38;5;129;01min\u001B[39;00m \u001B[38;5;28mrange\u001B[39m(i\u001B[38;5;241m+\u001B[39m\u001B[38;5;241m1\u001B[39m):\n\u001B[1;32m---> 23\u001B[0m         optionvalue[i,j]\u001B[38;5;241m=\u001B[39m\u001B[43mnp\u001B[49m\u001B[38;5;241;43m.\u001B[39;49m\u001B[43mexp\u001B[49m\u001B[43m(\u001B[49m\u001B[38;5;241;43m-\u001B[39;49m\u001B[43mr\u001B[49m\u001B[38;5;241;43m*\u001B[39;49m\u001B[43mdt\u001B[49m\u001B[43m)\u001B[49m\u001B[38;5;241m*\u001B[39m(p\u001B[38;5;241m*\u001B[39moptionvalue[i\u001B[38;5;241m+\u001B[39m\u001B[38;5;241m1\u001B[39m,j]\u001B[38;5;241m+\u001B[39m(\u001B[38;5;241m1\u001B[39m\u001B[38;5;241m-\u001B[39mp)\u001B[38;5;241m*\u001B[39moptionvalue[i\u001B[38;5;241m+\u001B[39m\u001B[38;5;241m1\u001B[39m,j\u001B[38;5;241m+\u001B[39m\u001B[38;5;241m1\u001B[39m])\n\u001B[0;32m     25\u001B[0m \u001B[38;5;28;01mreturn\u001B[39;00m optionvalue[\u001B[38;5;241m0\u001B[39m,\u001B[38;5;241m0\u001B[39m]\n",
      "\u001B[1;31mKeyboardInterrupt\u001B[0m: "
     ]
    }
   ],
   "source": [
    "puts=[]\n",
    "calls=[]\n",
    "steps=np.arange(1,500)\n",
    "for i in steps:\n",
    "    puts+=[arbol(i,S,r,K,v,T,c,\"put\")]\n",
    "    calls+=[arbol(i,S,r,K,v,T,c,\"call\")]"
   ],
   "metadata": {
    "collapsed": false,
    "ExecuteTime": {
     "start_time": "2023-04-27T19:40:15.745157Z",
     "end_time": "2023-04-27T19:43:47.021486Z"
    }
   }
  },
  {
   "cell_type": "code",
   "execution_count": 30,
   "outputs": [
    {
     "data": {
      "text/plain": "0.4335385039355853"
     },
     "execution_count": 30,
     "metadata": {},
     "output_type": "execute_result"
    }
   ],
   "source": [
    "arbol(2,S,r,K,v,T,\"put\")\n",
    "# opcion americana binaria"
   ],
   "metadata": {
    "collapsed": false,
    "ExecuteTime": {
     "start_time": "2023-04-27T19:48:53.449100Z",
     "end_time": "2023-04-27T19:48:53.467446Z"
    }
   }
  },
  {
   "cell_type": "code",
   "execution_count": null,
   "outputs": [],
   "source": [],
   "metadata": {
    "collapsed": false
   }
  }
 ],
 "metadata": {
  "kernelspec": {
   "display_name": "Python 3",
   "language": "python",
   "name": "python3"
  },
  "language_info": {
   "codemirror_mode": {
    "name": "ipython",
    "version": 2
   },
   "file_extension": ".py",
   "mimetype": "text/x-python",
   "name": "python",
   "nbconvert_exporter": "python",
   "pygments_lexer": "ipython2",
   "version": "2.7.6"
  }
 },
 "nbformat": 4,
 "nbformat_minor": 0
}
